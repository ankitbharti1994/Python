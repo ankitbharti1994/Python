{
 "cells": [
  {
   "cell_type": "code",
   "execution_count": 1,
   "metadata": {},
   "outputs": [],
   "source": [
    "import numpy as np"
   ]
  },
  {
   "cell_type": "code",
   "execution_count": 2,
   "metadata": {},
   "outputs": [],
   "source": [
    "from numpy.random import randn"
   ]
  },
  {
   "cell_type": "code",
   "execution_count": 56,
   "metadata": {},
   "outputs": [
    {
     "name": "stdout",
     "output_type": "stream",
     "text": [
      "0.682308\n",
      "[-0.70925761 -0.09840938  0.970793   ... -0.66297817 -0.15679784\n",
      "  0.78578852]\n"
     ]
    }
   ],
   "source": [
    "N = 10_00_000\n",
    "counter = 1\n",
    "\n",
    "values = randn(N)\n",
    "\n",
    "for val in values:\n",
    "    if val >= -1 and val <= 1:\n",
    "        counter += 1\n",
    "\n",
    "result = counter / N\n",
    "print(result)\n",
    "print(values)"
   ]
  }
 ],
 "metadata": {
  "kernelspec": {
   "display_name": "Python 3",
   "language": "python",
   "name": "python3"
  },
  "language_info": {
   "codemirror_mode": {
    "name": "ipython",
    "version": 3
   },
   "file_extension": ".py",
   "mimetype": "text/x-python",
   "name": "python",
   "nbconvert_exporter": "python",
   "pygments_lexer": "ipython3",
   "version": "3.7.4"
  }
 },
 "nbformat": 4,
 "nbformat_minor": 2
}
